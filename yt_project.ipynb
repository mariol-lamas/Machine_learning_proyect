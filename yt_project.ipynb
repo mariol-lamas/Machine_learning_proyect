{
 "cells": [
  {
   "cell_type": "markdown",
   "metadata": {},
   "source": [
    "# **IMPORTACION DE PAQUETES**\n",
    "---"
   ]
  },
  {
   "cell_type": "code",
   "execution_count": null,
   "metadata": {},
   "outputs": [],
   "source": [
    "import pandas as pd\n",
    "import numpy as np\n",
    "import seaborn as sns\n",
    "import matplotlib.pyplot as plt\n"
   ]
  },
  {
   "cell_type": "markdown",
   "metadata": {},
   "source": [
    "# **Exploración de los datos**\n",
    "---"
   ]
  },
  {
   "cell_type": "code",
   "execution_count": null,
   "metadata": {},
   "outputs": [],
   "source": [
    "data=pd.read_csv('./Data/dataset_para_modelar.csv')\n",
    "data=data.iloc[:,1:]\n",
    "data.shape"
   ]
  },
  {
   "cell_type": "code",
   "execution_count": null,
   "metadata": {},
   "outputs": [],
   "source": [
    "data.head()"
   ]
  },
  {
   "cell_type": "code",
   "execution_count": null,
   "metadata": {},
   "outputs": [],
   "source": [
    "data.info()"
   ]
  },
  {
   "cell_type": "markdown",
   "metadata": {},
   "source": [
    "- Vemos que edad esta en tipo texto\n",
    "- Hay muchos nulos en la columna 10"
   ]
  },
  {
   "cell_type": "markdown",
   "metadata": {},
   "source": [
    "### **Comprobamos el numero de nulos**"
   ]
  },
  {
   "cell_type": "code",
   "execution_count": null,
   "metadata": {},
   "outputs": [],
   "source": [
    "data.isna().sum()"
   ]
  },
  {
   "cell_type": "markdown",
   "metadata": {},
   "source": [
    "- Vemos que hay 56 que son recurrentes, vamos a confirmarlo"
   ]
  },
  {
   "cell_type": "code",
   "execution_count": null,
   "metadata": {},
   "outputs": [],
   "source": [
    "data[data['pais'].isna()].isna().sum()"
   ]
  },
  {
   "cell_type": "markdown",
   "metadata": {},
   "source": [
    "- Efectivamente hay 56 usuarios cuya informacion es nula para casi todas las columnas.\n",
    "\n",
    "### **Inspección de cada variable**\n",
    "\n",
    "##### - **Código de persona**"
   ]
  },
  {
   "cell_type": "code",
   "execution_count": null,
   "metadata": {},
   "outputs": [],
   "source": [
    "cods_persona=data[['cod_persona','mes']]\n",
    "len(cods_persona['cod_persona'].unique()) #Número de personas"
   ]
  },
  {
   "cell_type": "markdown",
   "metadata": {},
   "source": [
    "Tenemos un total de 46779 usuarios.\n",
    "\n",
    "- ¿Evoluciona el numero de personas con el tiempo?"
   ]
  },
  {
   "cell_type": "code",
   "execution_count": null,
   "metadata": {},
   "outputs": [],
   "source": [
    "user_per_mes=cods_persona.groupby(by=['mes'])['cod_persona'].count().reset_index()\n",
    "user_per_mes['mes']=pd.to_datetime(user_per_mes['mes'])\n",
    "sns.scatterplot(data=user_per_mes,x='mes',y='cod_persona')\n",
    "plt.xticks(rotation=45)"
   ]
  },
  {
   "cell_type": "markdown",
   "metadata": {},
   "source": [
    "- Curiosamente a partir de Julio de 2015 parece que se unen muchos usuarios, esto puede deberse a que la empresa haya sido absorbida por otra."
   ]
  },
  {
   "cell_type": "markdown",
   "metadata": {},
   "source": [
    "#### - **País**"
   ]
  },
  {
   "cell_type": "code",
   "execution_count": null,
   "metadata": {},
   "outputs": [],
   "source": [
    "sns.barplot(data['pais'].value_counts())\n",
    "plt.xticks(rotation=45)"
   ]
  },
  {
   "cell_type": "markdown",
   "metadata": {},
   "source": [
    "- Parece que la mayoria son de españa vamos a verificarlo"
   ]
  },
  {
   "cell_type": "code",
   "execution_count": null,
   "metadata": {},
   "outputs": [],
   "source": [
    "data['pais'].value_counts() #/ len(data)"
   ]
  },
  {
   "cell_type": "markdown",
   "metadata": {},
   "source": [
    "- Vemos que el 99,5% son español, por lo tanto quizas sea interesante convertir la columna en español o no."
   ]
  },
  {
   "cell_type": "markdown",
   "metadata": {},
   "source": [
    "#### - **Sexo**"
   ]
  },
  {
   "cell_type": "code",
   "execution_count": null,
   "metadata": {},
   "outputs": [],
   "source": [
    "sns.barplot(data['sexo'].value_counts())"
   ]
  },
  {
   "cell_type": "markdown",
   "metadata": {},
   "source": [
    "- Vemos que hay practicamente la misma cantidad de hombres y mujeres.\n",
    "\n",
    "#### - **Edad**\n",
    "El primer caso es entender que errores han llevado a que la considere como texto"
   ]
  },
  {
   "cell_type": "code",
   "execution_count": null,
   "metadata": {},
   "outputs": [],
   "source": [
    "data['edad'].unique()"
   ]
  },
  {
   "cell_type": "markdown",
   "metadata": {},
   "source": [
    "Observamos varios valores extraños:\n",
    "- ' NA'\n",
    "- Algunos numeros tienen espacios\n",
    "  \n",
    "Para resolverlo vamos primero a eliminar espacios, sustituir el NA por un nulo y convertir a numérico"
   ]
  },
  {
   "cell_type": "code",
   "execution_count": null,
   "metadata": {},
   "outputs": [],
   "source": [
    "data['edad']=data['edad'].apply(lambda x: np.nan if x==' NA'else x).astype(np.float32)\n",
    "data['edad'].unique()"
   ]
  },
  {
   "cell_type": "markdown",
   "metadata": {},
   "source": [
    "- Vemos que hemos solucionado el problema ahora vamos a estudiar como se distribuyen las edades y si evolucionan con el tiempo"
   ]
  },
  {
   "cell_type": "code",
   "execution_count": null,
   "metadata": {},
   "outputs": [],
   "source": [
    "sns.histplot(data['edad'])"
   ]
  },
  {
   "cell_type": "markdown",
   "metadata": {},
   "source": [
    "Podemos observar 3 grupos:\n",
    "- Menores de 20 años (menores)\n",
    "- Entre 20 y 30 años (jovenes)\n",
    "- +30 años (Adultos)"
   ]
  },
  {
   "cell_type": "code",
   "execution_count": null,
   "metadata": {},
   "outputs": [],
   "source": [
    "sns.boxplot(data['edad']) #Parece que hay algun valor de edad que podria ser erroneo"
   ]
  },
  {
   "cell_type": "code",
   "execution_count": null,
   "metadata": {},
   "outputs": [],
   "source": [
    "edad_media_mes=data[['edad','mes']].groupby(by=['mes'])['edad'].median().reset_index() #Probar tambien con la mediana y explicar la diferencia\n",
    "edad_media_mes['mes']=pd.to_datetime(user_per_mes['mes'])\n",
    "sns.scatterplot(data=edad_media_mes,x='mes',y='edad')\n",
    "plt.xticks(rotation=45)"
   ]
  },
  {
   "cell_type": "markdown",
   "metadata": {},
   "source": [
    "- Parece que la media apenas varia con el tiempo"
   ]
  },
  {
   "cell_type": "markdown",
   "metadata": {},
   "source": [
    "#### - **xti_empleado**"
   ]
  },
  {
   "cell_type": "code",
   "execution_count": null,
   "metadata": {},
   "outputs": [],
   "source": [
    "data['xti_empleado'].unique() #Es una variable categorica"
   ]
  },
  {
   "cell_type": "code",
   "execution_count": null,
   "metadata": {},
   "outputs": [],
   "source": [
    "sns.barplot(data['xti_empleado'].value_counts()) "
   ]
  },
  {
   "cell_type": "markdown",
   "metadata": {},
   "source": [
    "- Vemos que la mayoria pertenecen a la categoria N, teniendo en cuenta la descripcion de las columnas la mayoria de los clientes no son empleados lo cual es lógico:\n",
    "- Descripcion variable: Employee index: A active, B ex employed, F filial, N not employee, P pasive\n",
    "\n",
    "Quizas sería interesante convertir en empleado/no empleado"
   ]
  },
  {
   "cell_type": "markdown",
   "metadata": {},
   "source": [
    "#### - **xti_nuevo_cliente**"
   ]
  },
  {
   "cell_type": "code",
   "execution_count": null,
   "metadata": {},
   "outputs": [],
   "source": [
    "data['xti_nuevo_cliente'].unique() "
   ]
  },
  {
   "cell_type": "markdown",
   "metadata": {},
   "source": [
    "Es una variable dicotómica si/no.\n",
    "- Descripcion de la variable: New customer Index. 1 if the customer registered in the last 6 months.\n",
    "\n",
    "¿Que cantidad hay de nuevos?"
   ]
  },
  {
   "cell_type": "code",
   "execution_count": null,
   "metadata": {},
   "outputs": [],
   "source": [
    "sns.barplot(data['xti_nuevo_cliente'].value_counts())"
   ]
  },
  {
   "cell_type": "markdown",
   "metadata": {},
   "source": [
    "- Vemos que la mayoria no son clientes nuevos"
   ]
  },
  {
   "cell_type": "markdown",
   "metadata": {},
   "source": [
    "#### - **num_antiguedad**"
   ]
  },
  {
   "cell_type": "code",
   "execution_count": null,
   "metadata": {},
   "outputs": [],
   "source": [
    "data['num_antiguedad'].unique()"
   ]
  },
  {
   "cell_type": "markdown",
   "metadata": {},
   "source": [
    "La antiguedad esta en meses\n",
    "Problemas que observamos:\n",
    "- Uso de espacios\n",
    "- '     NA'"
   ]
  },
  {
   "cell_type": "code",
   "execution_count": null,
   "metadata": {},
   "outputs": [],
   "source": [
    "data['num_antiguedad']=data['num_antiguedad'].apply(lambda x: np.nan if x=='     NA' else x).astype(np.float32)\n",
    "data['num_antiguedad'].unique()"
   ]
  },
  {
   "cell_type": "code",
   "execution_count": null,
   "metadata": {},
   "outputs": [],
   "source": [
    "data['num_antiguedad'].describe()"
   ]
  },
  {
   "cell_type": "code",
   "execution_count": null,
   "metadata": {},
   "outputs": [],
   "source": [
    "sns.histplot(data['num_antiguedad'])"
   ]
  },
  {
   "cell_type": "code",
   "execution_count": null,
   "metadata": {},
   "outputs": [],
   "source": [
    "sns.boxplot(data['num_antiguedad'])"
   ]
  },
  {
   "cell_type": "markdown",
   "metadata": {},
   "source": [
    "#### - **xti_rel**"
   ]
  },
  {
   "cell_type": "code",
   "execution_count": null,
   "metadata": {},
   "outputs": [],
   "source": [
    "data['xti_rel'].unique()"
   ]
  },
  {
   "cell_type": "markdown",
   "metadata": {},
   "source": [
    "Parece una variable categorica donde las categorias se han escrito como numeros.\n",
    "Para que las categorias tengan una escala similar, sustituimos 99 por 2."
   ]
  },
  {
   "cell_type": "code",
   "execution_count": null,
   "metadata": {},
   "outputs": [],
   "source": [
    "data['xti_rel']=data['xti_rel'].map({99.:2.,1.:1.})"
   ]
  },
  {
   "cell_type": "code",
   "execution_count": null,
   "metadata": {},
   "outputs": [],
   "source": [
    "sns.barplot(data['xti_rel'].value_counts())"
   ]
  },
  {
   "cell_type": "markdown",
   "metadata": {},
   "source": [
    "Descripcion de la variable: 1 (First/Primary), 99 (Primary customer during the month but not at the end of the month)\n",
    "- Vemos que la mayoria pertenecen a la categoria 1"
   ]
  },
  {
   "cell_type": "markdown",
   "metadata": {},
   "source": [
    "#### - **fec_ult_cli_1t**"
   ]
  },
  {
   "cell_type": "code",
   "execution_count": null,
   "metadata": {},
   "outputs": [],
   "source": [
    "data['fec_ult_cli_1t'].unique()"
   ]
  },
  {
   "cell_type": "code",
   "execution_count": null,
   "metadata": {},
   "outputs": [],
   "source": [
    "data['fec_ult_cli_1t'].isna().sum()"
   ]
  },
  {
   "cell_type": "markdown",
   "metadata": {},
   "source": [
    "- Parece que se trata de una columna de fechas pero la mayoria son nulos por lo tanto convendria eliminarla\n",
    "\n",
    "#### - **xti_rel_1mes**"
   ]
  },
  {
   "cell_type": "code",
   "execution_count": null,
   "metadata": {},
   "outputs": [],
   "source": [
    "data['xti_rel_1mes'].unique()"
   ]
  },
  {
   "cell_type": "markdown",
   "metadata": {},
   "source": [
    "Se trata de una variable categorica donde las categorias son numeros:\n",
    "- Descripcion de la variable: Customer type at the beginning of the month ,1 (First/Primary customer), 2 (co-owner ),P (Potential),3 (former primary), 4(former co-owner)"
   ]
  },
  {
   "cell_type": "code",
   "execution_count": null,
   "metadata": {},
   "outputs": [],
   "source": [
    "sns.barplot(data['xti_rel_1mes'].value_counts())"
   ]
  },
  {
   "cell_type": "markdown",
   "metadata": {},
   "source": [
    "- La gran mayoria pertenecen a la categoria 1"
   ]
  },
  {
   "cell_type": "markdown",
   "metadata": {},
   "source": [
    "#### - **tip_rel_1mes**"
   ]
  },
  {
   "cell_type": "code",
   "execution_count": null,
   "metadata": {},
   "outputs": [],
   "source": [
    "data['tip_rel_1mes'].unique()"
   ]
  },
  {
   "cell_type": "code",
   "execution_count": null,
   "metadata": {},
   "outputs": [],
   "source": [
    "sns.barplot(data['tip_rel_1mes'].value_counts())"
   ]
  },
  {
   "cell_type": "markdown",
   "metadata": {},
   "source": [
    "- Descripcion de la variable: Customer relation type at the beginning of the month, A (active), I (inactive), P (former customer),R (Potential)"
   ]
  },
  {
   "cell_type": "markdown",
   "metadata": {},
   "source": [
    "#### - **indresi**"
   ]
  },
  {
   "cell_type": "code",
   "execution_count": null,
   "metadata": {},
   "outputs": [],
   "source": [
    "data['indresi'].unique()"
   ]
  },
  {
   "cell_type": "code",
   "execution_count": null,
   "metadata": {},
   "outputs": [],
   "source": [
    "sns.barplot(data['indresi'].value_counts())"
   ]
  },
  {
   "cell_type": "markdown",
   "metadata": {},
   "source": [
    "La gran mayoria pertenece a la categoria S, no quiere decir que la mayoria de usuarios tienen la cuenta del banco en el mismo pais que donde viven:\n",
    "- Descripcion de la variable: esidence index (S (Yes) or N (No) if the residence country is the same than the bank country)"
   ]
  },
  {
   "cell_type": "markdown",
   "metadata": {},
   "source": [
    "#### - **indext**"
   ]
  },
  {
   "cell_type": "code",
   "execution_count": null,
   "metadata": {},
   "outputs": [],
   "source": [
    "data['indext'].unique()"
   ]
  },
  {
   "cell_type": "code",
   "execution_count": null,
   "metadata": {},
   "outputs": [],
   "source": [
    "sns.barplot(data['indext'].value_counts())"
   ]
  },
  {
   "cell_type": "markdown",
   "metadata": {},
   "source": [
    "- Descripcion de la variable: Foreigner index (S (Yes) or N (No) if the customer's birth country is different than the bank country)\n",
    "\n",
    "#### - **des_canal**"
   ]
  },
  {
   "cell_type": "code",
   "execution_count": null,
   "metadata": {},
   "outputs": [],
   "source": [
    "data['des_canal'].unique()"
   ]
  },
  {
   "cell_type": "markdown",
   "metadata": {},
   "source": [
    "- Descripcion de la variable: channel used by the customer to join"
   ]
  },
  {
   "cell_type": "code",
   "execution_count": null,
   "metadata": {},
   "outputs": [],
   "source": [
    "sns.barplot(data['des_canal'].value_counts())"
   ]
  },
  {
   "cell_type": "code",
   "execution_count": null,
   "metadata": {},
   "outputs": [],
   "source": [
    "data['des_canal'].value_counts()"
   ]
  },
  {
   "cell_type": "markdown",
   "metadata": {},
   "source": [
    "- Parece que los datos se concentran en las primeras categorias\n",
    "\n",
    "#### - **xti_extra**"
   ]
  },
  {
   "cell_type": "code",
   "execution_count": null,
   "metadata": {},
   "outputs": [],
   "source": [
    "data['xti_extra'].unique()"
   ]
  },
  {
   "cell_type": "code",
   "execution_count": null,
   "metadata": {},
   "outputs": [],
   "source": [
    "sns.barplot(data['xti_extra'].value_counts())"
   ]
  },
  {
   "cell_type": "markdown",
   "metadata": {},
   "source": [
    "La gran mayoria pertenece a la categoria 'N':\n",
    "- Descripcion de la variable: Deceased index. N/S\n",
    "\n",
    "No parece que nos de mucha informacion\n",
    "\n",
    "#### - **tip_dom**"
   ]
  },
  {
   "cell_type": "code",
   "execution_count": null,
   "metadata": {},
   "outputs": [],
   "source": [
    "data['tip_dom'].unique()"
   ]
  },
  {
   "cell_type": "code",
   "execution_count": null,
   "metadata": {},
   "outputs": [],
   "source": [
    "sns.barplot(data['tip_dom'].value_counts())"
   ]
  },
  {
   "cell_type": "markdown",
   "metadata": {},
   "source": [
    "- Solo hay valores de una categoria lo cual no va a añadir informacion a los posteriores modelos ya que la varianza en la informacion es 0.\n",
    "  \n",
    "#### - **cod_provincia**"
   ]
  },
  {
   "cell_type": "code",
   "execution_count": null,
   "metadata": {},
   "outputs": [],
   "source": [
    "data['cod_provincia'].unique()"
   ]
  },
  {
   "cell_type": "markdown",
   "metadata": {},
   "source": [
    "- Descripcion de la variable: Province code (customer's address)\n",
    "\n",
    "#### - **xti_actividad_cliente**"
   ]
  },
  {
   "cell_type": "code",
   "execution_count": null,
   "metadata": {},
   "outputs": [],
   "source": [
    "data['xti_actividad_cliente'].unique()"
   ]
  },
  {
   "cell_type": "code",
   "execution_count": null,
   "metadata": {},
   "outputs": [],
   "source": [
    "sns.barplot(data['xti_actividad_cliente'].value_counts())"
   ]
  },
  {
   "cell_type": "markdown",
   "metadata": {},
   "source": [
    "- Descripcion de las variables: Activity index (1, active customer; 0, inactive customer)\n",
    "- Observamos que hay practicamente el mismo numero de clientes activoc como de inactivos"
   ]
  },
  {
   "cell_type": "markdown",
   "metadata": {},
   "source": [
    "#### - **imp_renta**"
   ]
  },
  {
   "cell_type": "code",
   "execution_count": null,
   "metadata": {},
   "outputs": [],
   "source": [
    "data['imp_renta'].unique()"
   ]
  },
  {
   "cell_type": "code",
   "execution_count": null,
   "metadata": {},
   "outputs": [],
   "source": [
    "sns.histplot(data['imp_renta'])"
   ]
  },
  {
   "cell_type": "markdown",
   "metadata": {},
   "source": [
    "- Descripcion de la variable: Gross income of the household\n",
    "\n",
    "Vemos que hay valores atípicos que nos modifican la distribucion, probemos a normalizarla con logaritmos"
   ]
  },
  {
   "cell_type": "code",
   "execution_count": null,
   "metadata": {},
   "outputs": [],
   "source": [
    "sns.histplot(np.log(data['imp_renta']),kde=True)"
   ]
  },
  {
   "cell_type": "markdown",
   "metadata": {},
   "source": [
    "Observamos que ahora la distribucion si esta normalizada, quizas seria interesante aplicar un logaritmo tras tratar los valores nulos"
   ]
  },
  {
   "cell_type": "code",
   "execution_count": null,
   "metadata": {},
   "outputs": [],
   "source": [
    "sns.boxplot(data['imp_renta']) #Así vemos mas claramente los valores atipicos"
   ]
  },
  {
   "cell_type": "code",
   "execution_count": null,
   "metadata": {},
   "outputs": [],
   "source": [
    "data['imp_renta'].describe()"
   ]
  },
  {
   "cell_type": "markdown",
   "metadata": {},
   "source": [
    "#### - **id_segmento**"
   ]
  },
  {
   "cell_type": "code",
   "execution_count": null,
   "metadata": {},
   "outputs": [],
   "source": [
    "data['id_segmento'].unique()"
   ]
  },
  {
   "cell_type": "markdown",
   "metadata": {},
   "source": [
    "- Descripcion de la variable:  \tsegmentation: 01 - VIP, 02 - Individuals 03 - college graduated"
   ]
  },
  {
   "cell_type": "code",
   "execution_count": null,
   "metadata": {},
   "outputs": [],
   "source": [
    "sns.barplot(data['id_segmento'].value_counts())"
   ]
  },
  {
   "cell_type": "markdown",
   "metadata": {},
   "source": [
    "#### - **mean_engagement**"
   ]
  },
  {
   "cell_type": "code",
   "execution_count": null,
   "metadata": {},
   "outputs": [],
   "source": [
    "sns.histplot(data['mean_engagement'])"
   ]
  },
  {
   "cell_type": "code",
   "execution_count": null,
   "metadata": {},
   "outputs": [],
   "source": [
    "sns.boxplot(data['mean_engagement'])"
   ]
  },
  {
   "cell_type": "markdown",
   "metadata": {},
   "source": [
    "- Observamos que hay muchos valores atípicos respecto a la media"
   ]
  },
  {
   "cell_type": "code",
   "execution_count": null,
   "metadata": {},
   "outputs": [],
   "source": [
    "data['mean_engagement'].describe()"
   ]
  },
  {
   "cell_type": "markdown",
   "metadata": {},
   "source": [
    "## **Estudio del comportamiento de compra y los productos**\n",
    "---"
   ]
  },
  {
   "cell_type": "markdown",
   "metadata": {},
   "source": [
    "El primer paso es corregir los valores faltantes de los productos"
   ]
  },
  {
   "cell_type": "code",
   "execution_count": null,
   "metadata": {},
   "outputs": [],
   "source": [
    "inds_prods=[f'ind_prod{i}' for i in range(1,26)]\n",
    "informacion_productos=data.sort_values(by=['cod_persona','mes'])[inds_prods]"
   ]
  },
  {
   "cell_type": "code",
   "execution_count": null,
   "metadata": {},
   "outputs": [],
   "source": [
    "informacion_productos.isna().sum()"
   ]
  },
  {
   "cell_type": "markdown",
   "metadata": {},
   "source": [
    "Vamos a rellenar los valores nulos con el valor del periodo anterior, suponemos que mantiene el mismo estado que para el mes anterio."
   ]
  },
  {
   "cell_type": "code",
   "execution_count": null,
   "metadata": {},
   "outputs": [],
   "source": [
    "informacion_productos.fillna(method='ffill',inplace=True)\n",
    "informacion_productos.isna().sum()"
   ]
  },
  {
   "cell_type": "markdown",
   "metadata": {},
   "source": [
    "Vamos a comenzar calculando las reglas de asociacion entre los productos, estas nos vienen a decir que productos se suelen comprar juntos lo cual nos puede dar informacion para mejorar las recomendaciones."
   ]
  },
  {
   "cell_type": "code",
   "execution_count": null,
   "metadata": {},
   "outputs": [],
   "source": [
    "from mlxtend.frequent_patterns import apriori\n",
    "from mlxtend.frequent_patterns import association_rules\n",
    "frequent_itemsets = apriori(informacion_productos, min_support=0.01, use_colnames=True)\n",
    "rules = association_rules(frequent_itemsets, metric=\"lift\", min_threshold=1)\n",
    "\n",
    "# Display the association rules\n",
    "rules.sort_values(by='lift',ascending=False)"
   ]
  },
  {
   "cell_type": "markdown",
   "metadata": {},
   "source": [
    "Vemos que para aquellos que han comprado los producto 24,22 y 25 generalmente compran tambien el 23,19 y 5.\n",
    "\n",
    "### **Estudio respecto al grupo de edad**\n",
    "\n",
    "En principio suponemos que es probable que en funcion de su edad podra acceder a unos productos como una hipoteca o a otros"
   ]
  },
  {
   "cell_type": "code",
   "execution_count": null,
   "metadata": {},
   "outputs": [],
   "source": [
    "data['edad'].fillna(data['edad'].median(),inplace=True) #Rellenamos los nulos con la mediana"
   ]
  },
  {
   "cell_type": "code",
   "execution_count": null,
   "metadata": {},
   "outputs": [],
   "source": [
    "data['edad_dividida'] = pd.cut(data['edad'].astype(np.int32), bins=[-np.inf, 20, 30, np.inf], labels=['Menor', 'Joven','Adulto'])\n",
    "data.groupby('edad_dividida')[inds_prods].sum()"
   ]
  },
  {
   "cell_type": "markdown",
   "metadata": {},
   "source": [
    "Resumen conclusiones:\n",
    "- Los menores no compran los productos 1,2,4,8,9,...,16,17,21\n",
    "- Los Jovenes no compran los productos 1,2,4,6 y 21.\n",
    "- Los Adultos no compran los productos 2 y 6.\n",
    "\n",
    "Vemos que el producto 2 no se compra nunca por lo tanto lo lógico sería no recomendarlo."
   ]
  },
  {
   "cell_type": "code",
   "execution_count": null,
   "metadata": {},
   "outputs": [],
   "source": [
    "data['ind_prod2'].describe() #Vemos que son solo 0 siempre (nadie lo ha comprado)"
   ]
  },
  {
   "cell_type": "markdown",
   "metadata": {},
   "source": [
    "#### **Estudio respecto al grupo de segmento**"
   ]
  },
  {
   "cell_type": "code",
   "execution_count": null,
   "metadata": {},
   "outputs": [],
   "source": [
    "data['id_segmento'].isna().sum()"
   ]
  },
  {
   "cell_type": "markdown",
   "metadata": {},
   "source": [
    "Vamos a rellenar los valores nulos con el segmento mas comun."
   ]
  },
  {
   "cell_type": "code",
   "execution_count": null,
   "metadata": {},
   "outputs": [],
   "source": [
    "from sklearn.impute import SimpleImputer\n",
    "seg_imputer=SimpleImputer(strategy='most_frequent')\n",
    "data['id_segmento']=seg_imputer.fit_transform(data[['id_segmento']])"
   ]
  },
  {
   "cell_type": "code",
   "execution_count": null,
   "metadata": {},
   "outputs": [],
   "source": [
    "dict(data.groupby('id_segmento')[inds_prods].sum())"
   ]
  },
  {
   "cell_type": "markdown",
   "metadata": {},
   "source": [
    "Resumen de conclusiones:\n",
    "- Los usuarios del segmento TOP no compran: producto 1,2,6.\n",
    "- Los usuarios del segmento PARTICULARES no compran: 2\n",
    "- los usuarios del segmento UNIVERSITARIO no compran: 1,2,6,15 y 21."
   ]
  },
  {
   "cell_type": "markdown",
   "metadata": {},
   "source": [
    "En conclusion habria que comprobar los resultados del modelo impleando ambas aproximaciones, agrupando por edad y agrupando por segmento."
   ]
  },
  {
   "cell_type": "markdown",
   "metadata": {},
   "source": [
    "# **ACABAR MAÑANA VIENDO LA EVOLUCION DE LOS DIFERENTES PRODUCTOS**"
   ]
  },
  {
   "cell_type": "markdown",
   "metadata": {},
   "source": [
    "## **Estudio de los clientes (Clustering)**\n",
    "---"
   ]
  },
  {
   "cell_type": "markdown",
   "metadata": {},
   "source": [
    "Para este analisis vamos a realizarnos una copia de los datos (eliminando los productos) y trataremos de forma preliminar los nulos."
   ]
  },
  {
   "cell_type": "code",
   "execution_count": null,
   "metadata": {},
   "outputs": [],
   "source": [
    "data_cluster=data.drop(inds_prods,axis=1).copy()\n",
    "data_cluster.head()"
   ]
  },
  {
   "cell_type": "markdown",
   "metadata": {},
   "source": [
    "Para convertir las categorias a datos numericos, como no siguen un orden implicito (bueno,regular,malo) en lugar de emplear codificacion ordenada haremos label enconder."
   ]
  },
  {
   "cell_type": "code",
   "execution_count": null,
   "metadata": {},
   "outputs": [],
   "source": [
    "from sklearn.preprocessing import OrdinalEncoder\n",
    "num_cols=data_cluster.select_dtypes(include='number').columns\n",
    "cat_cols=data_cluster.select_dtypes(exclude='number').columns"
   ]
  },
  {
   "cell_type": "markdown",
   "metadata": {},
   "source": [
    "Rellenamos los nulos categoricos con la categoria mas frecuente"
   ]
  },
  {
   "cell_type": "code",
   "execution_count": null,
   "metadata": {},
   "outputs": [],
   "source": [
    "cat_imputer=SimpleImputer(strategy='most_frequent')\n",
    "data_cluster[cat_cols]=cat_imputer.fit_transform(data_cluster[cat_cols])"
   ]
  },
  {
   "cell_type": "markdown",
   "metadata": {},
   "source": [
    "Rellenamos los nulos numericos con la mediana"
   ]
  },
  {
   "cell_type": "code",
   "execution_count": null,
   "metadata": {},
   "outputs": [],
   "source": [
    "num_imputer=SimpleImputer(strategy='median')\n",
    "data_cluster[num_cols]=num_imputer.fit_transform(data_cluster[num_cols])"
   ]
  },
  {
   "cell_type": "markdown",
   "metadata": {},
   "source": [
    "Eliminamos las columnas que habiamos visto en el analisis que no aportaban informacion:\n",
    "- fec_ult_cli_1t muchos valores nulos\n",
    "- xti_extra no tiene varianza, da poca informacion\n",
    "\n",
    "Despues de este analisis comprobaremos que variables son mas y menos importantes"
   ]
  },
  {
   "cell_type": "code",
   "execution_count": null,
   "metadata": {},
   "outputs": [],
   "source": [
    "data_cluster.drop(['fec_ult_cli_1t','xti_extra'],axis=1,inplace=True)"
   ]
  },
  {
   "cell_type": "markdown",
   "metadata": {},
   "source": [
    "Ahora que hemos corregido los nulos y hemos eliminado las columnas innecesarias, Codificamos las variables categoricas con labelEncoder."
   ]
  },
  {
   "cell_type": "code",
   "execution_count": null,
   "metadata": {},
   "outputs": [],
   "source": [
    "cat_cols_en=data_cluster.select_dtypes(exclude='number').columns\n",
    "label_encoder=OrdinalEncoder()\n",
    "data_cluster[cat_cols_en]=label_encoder.fit_transform(data_cluster[cat_cols_en])"
   ]
  },
  {
   "cell_type": "code",
   "execution_count": null,
   "metadata": {},
   "outputs": [],
   "source": [
    "data_cluster.head()"
   ]
  },
  {
   "cell_type": "markdown",
   "metadata": {},
   "source": [
    "Vemos que ya hemos convertido todas las variables a numericas, vamos a eliminar las columnas que no dan informacion sobre el comportamiento de grupos de cliente:\n",
    "- cod_persona\n",
    "- mes\n",
    "- fecha1"
   ]
  },
  {
   "cell_type": "code",
   "execution_count": null,
   "metadata": {},
   "outputs": [],
   "source": [
    "data_cluster.drop(['cod_persona','mes','fecha1'],axis=1,inplace=True)"
   ]
  },
  {
   "cell_type": "markdown",
   "metadata": {},
   "source": [
    "#### - **El paso inicial es encontrar el numero óptimo de grupos**\n",
    "Empezamos con la técnica del codo."
   ]
  },
  {
   "cell_type": "code",
   "execution_count": null,
   "metadata": {},
   "outputs": [],
   "source": [
    "from sklearn.cluster import KMeans\n",
    "from sklearn.metrics import silhouette_score,calinski_harabasz_score"
   ]
  },
  {
   "cell_type": "code",
   "execution_count": null,
   "metadata": {},
   "outputs": [],
   "source": [
    "# definimos la n-tupla donde ordenaderemos los sucesivos valores de SSE\n",
    "# hallados para cada valor de k\n",
    "Coste = []\n",
    "krange = np.arange(2, 11) #krange = 2,3,4,5,6,7,8,9,10\n",
    "# bucle para el cálculo de la función de coste (SSE) desde k= 2 hasta k= 10\n",
    "for num in krange:\n",
    "    kmeans = KMeans(n_clusters=num, n_init='auto', random_state=10, max_iter=100).fit(data_cluster)\n",
    "    print(\n",
    "        \"Para k =\",\n",
    "        num,\n",
    "        ', el coste (SSE)=',\n",
    "        kmeans.inertia_,\n",
    "    )\n",
    "    Coste.append(kmeans.inertia_)\n",
    "\n",
    "fig, ax = plt.subplots()\n",
    "ax.set_title('Método del codo', fontsize = 16)\n",
    "ax.set_ylabel(\"Coste (SSE)\",fontsize=14)\n",
    "ax.set_xlabel(\"Número de clústeres (k)\", fontsize=14)\n",
    "ax.plot(krange,Coste)\n",
    "plt.show()"
   ]
  },
  {
   "cell_type": "markdown",
   "metadata": {},
   "source": [
    "Tratamos de encontrar el numeo de cluster que forma el codo que podria estar entre 3-6, vamos a emplear una nueva métrica para calcularlo matematicamente."
   ]
  },
  {
   "cell_type": "code",
   "execution_count": null,
   "metadata": {},
   "outputs": [],
   "source": [
    "for k in [3,4,5,6]:\n",
    "    kmeans = KMeans(n_clusters=k, n_init= 'auto', random_state=10, max_iter=3000)\n",
    "    Y_pred=kmeans.fit_predict(data_cluster) # Vector de asignación de etiquetas predichas para cada elemento\n",
    "    data_cluster['id_cluster']=kmeans.labels_\n",
    "    muestra=data_cluster.sample(round(0.1*len(data_cluster)))\n",
    "    silhouette_avg = silhouette_score(muestra.drop('id_cluster',axis=1),muestra['id_cluster'])\n",
    "    cal=calinski_harabasz_score(muestra.drop('id_cluster',axis=1),muestra['id_cluster'])\n",
    "    print('\\nPara un Nº de clusters: ',k ,\n",
    "          '\\nS: ',silhouette_avg,\n",
    "          '\\nCH: ',cal)\n",
    "    print('-'*50)"
   ]
  },
  {
   "cell_type": "markdown",
   "metadata": {},
   "source": [
    "Tratamos de buscar el valor mas cercano a 1 de la metrica de silouhette (S) y maximizar calinski (CH), teniendo esto en cuenta el numero optimo son 3 clusters.\n",
    "Vamos a entrenar el modelo con 3 cluster y analizar los grupos."
   ]
  },
  {
   "cell_type": "code",
   "execution_count": null,
   "metadata": {},
   "outputs": [],
   "source": [
    "k_val=3\n",
    "kmeans = KMeans(n_clusters=k_val, n_init= 'auto', random_state=10, max_iter=3000)\n",
    "kmeans.fit(data_cluster) # Vector de asignación de etiquetas predichas para cada elemento\n",
    "data_cluster['id_cluster']=kmeans.labels_"
   ]
  },
  {
   "cell_type": "markdown",
   "metadata": {},
   "source": [
    "Vamos a mostrar con diagramas de cajas cada grupo para todas las variables."
   ]
  },
  {
   "cell_type": "code",
   "execution_count": null,
   "metadata": {},
   "outputs": [],
   "source": [
    "for col in data_cluster.columns:\n",
    "    sns.boxplot(data_cluster,x=col,hue='id_cluster')\n",
    "    plt.show()"
   ]
  },
  {
   "cell_type": "code",
   "execution_count": null,
   "metadata": {},
   "outputs": [],
   "source": [
    "data_cluster['id_cluster'].value_counts()"
   ]
  },
  {
   "cell_type": "markdown",
   "metadata": {},
   "source": [
    "Vemos que apenas aporta informacion ya que no parece haber agrupaciones muy claras."
   ]
  },
  {
   "cell_type": "markdown",
   "metadata": {},
   "source": [
    "# **Limpieza de datos y prueba con varios modelos**\n",
    "---"
   ]
  },
  {
   "cell_type": "markdown",
   "metadata": {},
   "source": [
    "Con toda la informacion obtenida durante el analisis, vamos a limpiar los datos y evaluar diferentes modelos a ver cual funciona mejor.\n",
    "\n",
    "- Convertimos pais a español o no y rellenamos nulos con el mas frecuente."
   ]
  },
  {
   "cell_type": "code",
   "execution_count": null,
   "metadata": {},
   "outputs": [],
   "source": [
    "data['pais']=data['pais'].fillna('ES').apply(lambda x: 0 if x=='ES' else 1 )"
   ]
  },
  {
   "cell_type": "markdown",
   "metadata": {},
   "source": [
    "- Convertimos sexo a numerico y rellenamos con el mas frecuente (masculino)"
   ]
  },
  {
   "cell_type": "code",
   "execution_count": null,
   "metadata": {},
   "outputs": [],
   "source": [
    "mapeo_sexo={'V':0,'H':1}\n",
    "data['sexo']=data['sexo'].fillna('V').map(mapeo_sexo)"
   ]
  },
  {
   "cell_type": "markdown",
   "metadata": {},
   "source": [
    "- xti_empleado rellenamos con la mas frecuente y convertimos a numerico"
   ]
  },
  {
   "cell_type": "code",
   "execution_count": null,
   "metadata": {},
   "outputs": [],
   "source": [
    "map_xti_emp={'N':0,'A':1,'F':2,'B':3}\n",
    "data['xti_empleado']=data['xti_empleado'].fillna('N').map(map_xti_emp)"
   ]
  },
  {
   "cell_type": "markdown",
   "metadata": {},
   "source": [
    "- Rellenamos los nulos con la categoria mas frecuente."
   ]
  },
  {
   "cell_type": "code",
   "execution_count": null,
   "metadata": {},
   "outputs": [],
   "source": [
    "data['xti_nuevo_cliente'].fillna(0,inplace=True)"
   ]
  },
  {
   "cell_type": "markdown",
   "metadata": {},
   "source": [
    "- Rellenamos el numero de antiguedad con la media."
   ]
  },
  {
   "cell_type": "code",
   "execution_count": null,
   "metadata": {},
   "outputs": [],
   "source": [
    "data['num_antiguedad'].fillna(data['num_antiguedad'].median(),inplace=True)"
   ]
  },
  {
   "cell_type": "markdown",
   "metadata": {},
   "source": [
    "- Rellenamos con la categoria mas frecuente (1)"
   ]
  },
  {
   "cell_type": "code",
   "execution_count": null,
   "metadata": {},
   "outputs": [],
   "source": [
    "data['xti_rel'].fillna(1.,inplace=True)"
   ]
  },
  {
   "cell_type": "markdown",
   "metadata": {},
   "source": [
    "- Eliminamos la columna porque teniamos muchos valores nulos +99%"
   ]
  },
  {
   "cell_type": "code",
   "execution_count": null,
   "metadata": {},
   "outputs": [],
   "source": [
    "data.drop('fec_ult_cli_1t',axis=1,inplace=True)"
   ]
  },
  {
   "cell_type": "markdown",
   "metadata": {},
   "source": [
    "- Rellenamos con la categoria más común (1)"
   ]
  },
  {
   "cell_type": "code",
   "execution_count": null,
   "metadata": {},
   "outputs": [],
   "source": [
    "data['xti_rel_1mes'].fillna(1.,inplace=True)"
   ]
  },
  {
   "cell_type": "markdown",
   "metadata": {},
   "source": [
    "- Rellenamos con la categoria mas frecuente 'I' y mapeamos a numerico"
   ]
  },
  {
   "cell_type": "code",
   "execution_count": null,
   "metadata": {},
   "outputs": [],
   "source": [
    "map_tip_rel={'I':0,'A':1,'P':2,'R':3}\n",
    "data['tip_rel_1mes']=data['tip_rel_1mes'].fillna('I').map(map_tip_rel)"
   ]
  },
  {
   "cell_type": "markdown",
   "metadata": {},
   "source": [
    "- Rellenamos con la categoria mas comun 'S' y mapeamos a numerico"
   ]
  },
  {
   "cell_type": "code",
   "execution_count": null,
   "metadata": {},
   "outputs": [],
   "source": [
    "map_indresi={'S':0,'N':1}\n",
    "data['indresi']=data['indresi'].fillna('S').map(map_indresi)"
   ]
  },
  {
   "cell_type": "code",
   "execution_count": null,
   "metadata": {},
   "outputs": [],
   "source": [
    "map_indext={'S':0,'N':1}\n",
    "data['indext']=data['indext'].fillna('N').map(map_indext)"
   ]
  },
  {
   "cell_type": "markdown",
   "metadata": {},
   "source": [
    "- Rellenamos los nulos con la mas comun (KHE) y convertimos a numerico "
   ]
  },
  {
   "cell_type": "code",
   "execution_count": null,
   "metadata": {},
   "outputs": [],
   "source": [
    "map_canal={elem:id for id,elem in enumerate(data['des_canal'].unique())}\n",
    "data['des_canal']=data['des_canal'].fillna('KHE').map(map_canal)"
   ]
  },
  {
   "cell_type": "markdown",
   "metadata": {},
   "source": [
    "- Rellenamos con la mas común y convertimos a numerico"
   ]
  },
  {
   "cell_type": "code",
   "execution_count": null,
   "metadata": {},
   "outputs": [],
   "source": [
    "map_xti_extra={'S':0,'N':1}\n",
    "data['xti_extra']=data['xti_extra'].fillna('N').map(map_xti_extra)"
   ]
  },
  {
   "cell_type": "markdown",
   "metadata": {},
   "source": [
    "- Todos pertenecen a la misma categoria por lo tanto no nos da informacion, la podemos eliminar."
   ]
  },
  {
   "cell_type": "code",
   "execution_count": null,
   "metadata": {},
   "outputs": [],
   "source": [
    "data.drop('tip_dom',axis=1,inplace=True)"
   ]
  },
  {
   "cell_type": "markdown",
   "metadata": {},
   "source": [
    "- Rellenamos con el mas comun porque aunque sea numerica el codigo postal en una categoria."
   ]
  },
  {
   "cell_type": "code",
   "execution_count": null,
   "metadata": {},
   "outputs": [],
   "source": [
    "data['cod_provincia'].fillna(28.,inplace=True)"
   ]
  },
  {
   "cell_type": "markdown",
   "metadata": {},
   "source": [
    "- Rellenamos con la mas comun (0)"
   ]
  },
  {
   "cell_type": "code",
   "execution_count": null,
   "metadata": {},
   "outputs": [],
   "source": [
    "data['xti_actividad_cliente'].fillna(0.,inplace=True)"
   ]
  },
  {
   "cell_type": "markdown",
   "metadata": {},
   "source": [
    "- Rellenamos con la mediana y hacemos una transformacion logaritmica para estandarizar la distribucion."
   ]
  },
  {
   "cell_type": "code",
   "execution_count": null,
   "metadata": {},
   "outputs": [],
   "source": [
    "data['imp_renta']=np.log(data['imp_renta'].fillna(data['imp_renta'].median()))"
   ]
  },
  {
   "cell_type": "markdown",
   "metadata": {},
   "source": [
    "- Rellenamos con la categoria mas común y convertimos a numerico"
   ]
  },
  {
   "cell_type": "code",
   "execution_count": null,
   "metadata": {},
   "outputs": [],
   "source": [
    "map_seg={elem:id for id,elem in enumerate(data['id_segmento'].unique())}\n",
    "data['id_segmento']=data['id_segmento'].fillna('02 - PARTICULARES').map(map_seg)"
   ]
  },
  {
   "cell_type": "markdown",
   "metadata": {},
   "source": [
    "- Rellenamos con la mediana"
   ]
  },
  {
   "cell_type": "code",
   "execution_count": null,
   "metadata": {},
   "outputs": [],
   "source": [
    "data['mean_engagement'].fillna(data['mean_engagement'].median(),inplace=True)"
   ]
  },
  {
   "cell_type": "code",
   "execution_count": null,
   "metadata": {},
   "outputs": [],
   "source": [
    "map_edad_div={elem:id for id,elem in enumerate(data['edad_dividida'].unique())}\n",
    "data['edad_dividida']=data['edad_dividida'].fillna('Adulto').map(map_edad_div)"
   ]
  },
  {
   "cell_type": "markdown",
   "metadata": {},
   "source": [
    "- Para la fecha uno hay que rellenar con el valor anterior + 1 mes"
   ]
  },
  {
   "cell_type": "code",
   "execution_count": null,
   "metadata": {},
   "outputs": [],
   "source": [
    "data['fecha1'] = pd.to_datetime(data['fecha1'])\n",
    "\n",
    "# Función para agregar un mes a una fecha\n",
    "def add_month(date):\n",
    "    if date.month == 12:\n",
    "        return date.replace(year=date.year + 1, month=1)\n",
    "    else:\n",
    "        return date.replace(month=date.month + 1)\n",
    "\n",
    "# Rellenar los valores nulos\n",
    "for i in range(1, len(data)):\n",
    "    if pd.isna(data.loc[i, 'fecha1']):\n",
    "        data.loc[i, 'fecha1'] = add_month(data.loc[i - 1, 'fecha1'])\n",
    "\n",
    "data['fecha1'].isna().sum()"
   ]
  },
  {
   "cell_type": "markdown",
   "metadata": {},
   "source": [
    "Revisamos que no haya ningun nulo que se nos haya olvidado."
   ]
  },
  {
   "cell_type": "code",
   "execution_count": null,
   "metadata": {},
   "outputs": [],
   "source": [
    "data.isna().sum()"
   ]
  },
  {
   "cell_type": "markdown",
   "metadata": {},
   "source": [
    "Vemos que se nos habia olvidado rellenar los valores de los producto procedemos igual que antes."
   ]
  },
  {
   "cell_type": "code",
   "execution_count": null,
   "metadata": {},
   "outputs": [],
   "source": [
    "data['ind_prod22'].fillna(method='ffill',inplace=True)\n",
    "data['ind_prod23'].fillna(method='ffill',inplace=True)"
   ]
  },
  {
   "cell_type": "markdown",
   "metadata": {},
   "source": [
    " #### Ahora si! Ya tenemos la limpieza inicial, nos guardamos nuestro set de datos limpio y vamos con los modelos!!"
   ]
  },
  {
   "cell_type": "code",
   "execution_count": null,
   "metadata": {},
   "outputs": [],
   "source": [
    "data.to_csv('datos_limpios.csv',index=False)"
   ]
  },
  {
   "cell_type": "markdown",
   "metadata": {},
   "source": []
  }
 ],
 "metadata": {
  "kernelspec": {
   "display_name": "entorno_prueba",
   "language": "python",
   "name": "python3"
  },
  "language_info": {
   "codemirror_mode": {
    "name": "ipython",
    "version": 3
   },
   "file_extension": ".py",
   "mimetype": "text/x-python",
   "name": "python",
   "nbconvert_exporter": "python",
   "pygments_lexer": "ipython3",
   "version": "3.11.0"
  }
 },
 "nbformat": 4,
 "nbformat_minor": 2
}
