{
 "cells": [
  {
   "cell_type": "code",
   "execution_count": 1,
   "metadata": {},
   "outputs": [],
   "source": [
    "import pandas as pd"
   ]
  },
  {
   "cell_type": "code",
   "execution_count": 5,
   "metadata": {},
   "outputs": [
    {
     "name": "stderr",
     "output_type": "stream",
     "text": [
      "/var/folders/4f/gbmqzwn51yg8gh7yyxzgpcl80000gn/T/ipykernel_30576/918402829.py:1: DtypeWarning: Columns (5,9,11) have mixed types. Specify dtype option on import or set low_memory=False.\n",
      "  data=pd.read_csv('../../Data/Raw/dataset_para_modelas_parte1.csv')\n",
      "/var/folders/4f/gbmqzwn51yg8gh7yyxzgpcl80000gn/T/ipykernel_30576/918402829.py:2: DtypeWarning: Columns (5,9,11) have mixed types. Specify dtype option on import or set low_memory=False.\n",
      "  data1=pd.read_csv('../../Data/Raw/dataset_para_modelas_parte1.csv')\n"
     ]
    },
    {
     "data": {
      "text/plain": [
       "(634682, 49)"
      ]
     },
     "execution_count": 5,
     "metadata": {},
     "output_type": "execute_result"
    }
   ],
   "source": [
    "data=pd.read_csv('../../Data/Raw/dataset_para_modelas_parte1.csv')\n",
    "data1=pd.read_csv('../../Data/Raw/dataset_para_modelas_parte1.csv')\n",
    "data_unida=pd.concat([data,data1])\n",
    "data_unida.shape"
   ]
  },
  {
   "cell_type": "code",
   "execution_count": null,
   "metadata": {},
   "outputs": [],
   "source": []
  }
 ],
 "metadata": {
  "kernelspec": {
   "display_name": "entorno_prueba",
   "language": "python",
   "name": "python3"
  },
  "language_info": {
   "codemirror_mode": {
    "name": "ipython",
    "version": 3
   },
   "file_extension": ".py",
   "mimetype": "text/x-python",
   "name": "python",
   "nbconvert_exporter": "python",
   "pygments_lexer": "ipython3",
   "version": "3.11.0"
  }
 },
 "nbformat": 4,
 "nbformat_minor": 2
}
